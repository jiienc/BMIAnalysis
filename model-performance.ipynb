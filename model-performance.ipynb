{
 "cells": [
  {
   "cell_type": "code",
   "execution_count": 1,
   "id": "f8e0ba3d",
   "metadata": {
    "execution": {
     "iopub.execute_input": "2023-04-20T06:04:49.020080Z",
     "iopub.status.busy": "2023-04-20T06:04:49.019564Z",
     "iopub.status.idle": "2023-04-20T06:04:54.270685Z",
     "shell.execute_reply": "2023-04-20T06:04:54.269488Z"
    },
    "id": "igJWT-ca6QIN",
    "papermill": {
     "duration": 5.266702,
     "end_time": "2023-04-20T06:04:54.274099",
     "exception": false,
     "start_time": "2023-04-20T06:04:49.007397",
     "status": "completed"
    },
    "tags": []
   },
   "outputs": [],
   "source": [
    "%matplotlib inline\n",
    "\n",
    "# Import library\n",
    "import numpy as np\n",
    "import pandas as pd\n",
    "import matplotlib.pyplot as plt\n",
    "import seaborn as sns\n",
    "import pandas_profiling\n",
    "from sklearn.preprocessing import LabelEncoder\n",
    "from sklearn.model_selection import train_test_split\n",
    "from sklearn.model_selection import cross_val_score\n",
    "from sklearn.metrics import accuracy_score, log_loss\n",
    "from sklearn.metrics import classification_report\n",
    "from sklearn.metrics import confusion_matrix\n",
    "from sklearn.neighbors import KNeighborsClassifier\n",
    "from sklearn.svm import SVC\n",
    "from sklearn.naive_bayes import GaussianNB\n",
    "from sklearn.linear_model import LogisticRegression\n",
    "from sklearn.tree import DecisionTreeClassifier\n",
    "from sklearn.discriminant_analysis import LinearDiscriminantAnalysis\n",
    "import math\n",
    "from sklearn import metrics\n",
    "from sklearn import preprocessing"
   ]
  },
  {
   "cell_type": "markdown",
   "id": "ed2f57a2",
   "metadata": {
    "id": "PJTmK4RjAXdf",
    "papermill": {
     "duration": 0.009011,
     "end_time": "2023-04-20T06:04:54.292493",
     "exception": false,
     "start_time": "2023-04-20T06:04:54.283482",
     "status": "completed"
    },
    "tags": []
   },
   "source": [
    "**1. Data Extraction**"
   ]
  },
  {
   "cell_type": "code",
   "execution_count": 2,
   "id": "f168665c",
   "metadata": {
    "execution": {
     "iopub.execute_input": "2023-04-20T06:04:54.313356Z",
     "iopub.status.busy": "2023-04-20T06:04:54.312589Z",
     "iopub.status.idle": "2023-04-20T06:04:54.330681Z",
     "shell.execute_reply": "2023-04-20T06:04:54.329395Z"
    },
    "id": "zorhDffHAOlR",
    "papermill": {
     "duration": 0.031899,
     "end_time": "2023-04-20T06:04:54.333724",
     "exception": false,
     "start_time": "2023-04-20T06:04:54.301825",
     "status": "completed"
    },
    "tags": []
   },
   "outputs": [],
   "source": [
    "df = pd.read_csv(\"/kaggle/input/bmidataset/bmi.csv\")"
   ]
  },
  {
   "cell_type": "code",
   "execution_count": 3,
   "id": "7a2a33f9",
   "metadata": {
    "execution": {
     "iopub.execute_input": "2023-04-20T06:04:54.354170Z",
     "iopub.status.busy": "2023-04-20T06:04:54.353409Z",
     "iopub.status.idle": "2023-04-20T06:04:54.360819Z",
     "shell.execute_reply": "2023-04-20T06:04:54.359879Z"
    },
    "id": "sGJOfsg37jN7",
    "outputId": "27ca94ad-8d4a-4448-a248-d017ffff2414",
    "papermill": {
     "duration": 0.020397,
     "end_time": "2023-04-20T06:04:54.363152",
     "exception": false,
     "start_time": "2023-04-20T06:04:54.342755",
     "status": "completed"
    },
    "tags": []
   },
   "outputs": [
    {
     "data": {
      "text/plain": [
       "(500, 4)"
      ]
     },
     "execution_count": 3,
     "metadata": {},
     "output_type": "execute_result"
    }
   ],
   "source": [
    "df.shape"
   ]
  },
  {
   "cell_type": "code",
   "execution_count": 4,
   "id": "4650cde7",
   "metadata": {
    "execution": {
     "iopub.execute_input": "2023-04-20T06:04:54.384753Z",
     "iopub.status.busy": "2023-04-20T06:04:54.383879Z",
     "iopub.status.idle": "2023-04-20T06:04:54.412757Z",
     "shell.execute_reply": "2023-04-20T06:04:54.411152Z"
    },
    "id": "OpBewff-AN7y",
    "outputId": "e9b1eeca-bf91-4388-9aed-ca6e0124870c",
    "papermill": {
     "duration": 0.042973,
     "end_time": "2023-04-20T06:04:54.415626",
     "exception": false,
     "start_time": "2023-04-20T06:04:54.372653",
     "status": "completed"
    },
    "tags": []
   },
   "outputs": [
    {
     "data": {
      "text/html": [
       "<div>\n",
       "<style scoped>\n",
       "    .dataframe tbody tr th:only-of-type {\n",
       "        vertical-align: middle;\n",
       "    }\n",
       "\n",
       "    .dataframe tbody tr th {\n",
       "        vertical-align: top;\n",
       "    }\n",
       "\n",
       "    .dataframe thead th {\n",
       "        text-align: right;\n",
       "    }\n",
       "</style>\n",
       "<table border=\"1\" class=\"dataframe\">\n",
       "  <thead>\n",
       "    <tr style=\"text-align: right;\">\n",
       "      <th></th>\n",
       "      <th>Gender</th>\n",
       "      <th>Height</th>\n",
       "      <th>Weight</th>\n",
       "      <th>Index</th>\n",
       "    </tr>\n",
       "  </thead>\n",
       "  <tbody>\n",
       "    <tr>\n",
       "      <th>0</th>\n",
       "      <td>Male</td>\n",
       "      <td>174</td>\n",
       "      <td>96</td>\n",
       "      <td>4</td>\n",
       "    </tr>\n",
       "    <tr>\n",
       "      <th>1</th>\n",
       "      <td>Male</td>\n",
       "      <td>189</td>\n",
       "      <td>87</td>\n",
       "      <td>2</td>\n",
       "    </tr>\n",
       "    <tr>\n",
       "      <th>2</th>\n",
       "      <td>Female</td>\n",
       "      <td>185</td>\n",
       "      <td>110</td>\n",
       "      <td>4</td>\n",
       "    </tr>\n",
       "    <tr>\n",
       "      <th>3</th>\n",
       "      <td>Female</td>\n",
       "      <td>195</td>\n",
       "      <td>104</td>\n",
       "      <td>3</td>\n",
       "    </tr>\n",
       "    <tr>\n",
       "      <th>4</th>\n",
       "      <td>Male</td>\n",
       "      <td>149</td>\n",
       "      <td>61</td>\n",
       "      <td>3</td>\n",
       "    </tr>\n",
       "  </tbody>\n",
       "</table>\n",
       "</div>"
      ],
      "text/plain": [
       "   Gender  Height  Weight  Index\n",
       "0    Male     174      96      4\n",
       "1    Male     189      87      2\n",
       "2  Female     185     110      4\n",
       "3  Female     195     104      3\n",
       "4    Male     149      61      3"
      ]
     },
     "execution_count": 4,
     "metadata": {},
     "output_type": "execute_result"
    }
   ],
   "source": [
    "df.head(5)"
   ]
  },
  {
   "cell_type": "code",
   "execution_count": 5,
   "id": "31b6facf",
   "metadata": {
    "execution": {
     "iopub.execute_input": "2023-04-20T06:04:54.437148Z",
     "iopub.status.busy": "2023-04-20T06:04:54.436327Z",
     "iopub.status.idle": "2023-04-20T06:04:54.447618Z",
     "shell.execute_reply": "2023-04-20T06:04:54.446235Z"
    },
    "id": "ZWrEu1sSC2xq",
    "outputId": "fe779b02-8990-4c20-f0cb-86a266104863",
    "papermill": {
     "duration": 0.025163,
     "end_time": "2023-04-20T06:04:54.450264",
     "exception": false,
     "start_time": "2023-04-20T06:04:54.425101",
     "status": "completed"
    },
    "tags": []
   },
   "outputs": [
    {
     "data": {
      "text/html": [
       "<div>\n",
       "<style scoped>\n",
       "    .dataframe tbody tr th:only-of-type {\n",
       "        vertical-align: middle;\n",
       "    }\n",
       "\n",
       "    .dataframe tbody tr th {\n",
       "        vertical-align: top;\n",
       "    }\n",
       "\n",
       "    .dataframe thead th {\n",
       "        text-align: right;\n",
       "    }\n",
       "</style>\n",
       "<table border=\"1\" class=\"dataframe\">\n",
       "  <thead>\n",
       "    <tr style=\"text-align: right;\">\n",
       "      <th></th>\n",
       "      <th>Gender</th>\n",
       "      <th>Height</th>\n",
       "      <th>Weight</th>\n",
       "      <th>Index</th>\n",
       "    </tr>\n",
       "  </thead>\n",
       "  <tbody>\n",
       "    <tr>\n",
       "      <th>495</th>\n",
       "      <td>Female</td>\n",
       "      <td>150</td>\n",
       "      <td>153</td>\n",
       "      <td>5</td>\n",
       "    </tr>\n",
       "    <tr>\n",
       "      <th>496</th>\n",
       "      <td>Female</td>\n",
       "      <td>184</td>\n",
       "      <td>121</td>\n",
       "      <td>4</td>\n",
       "    </tr>\n",
       "    <tr>\n",
       "      <th>497</th>\n",
       "      <td>Female</td>\n",
       "      <td>141</td>\n",
       "      <td>136</td>\n",
       "      <td>5</td>\n",
       "    </tr>\n",
       "    <tr>\n",
       "      <th>498</th>\n",
       "      <td>Male</td>\n",
       "      <td>150</td>\n",
       "      <td>95</td>\n",
       "      <td>5</td>\n",
       "    </tr>\n",
       "    <tr>\n",
       "      <th>499</th>\n",
       "      <td>Male</td>\n",
       "      <td>173</td>\n",
       "      <td>131</td>\n",
       "      <td>5</td>\n",
       "    </tr>\n",
       "  </tbody>\n",
       "</table>\n",
       "</div>"
      ],
      "text/plain": [
       "     Gender  Height  Weight  Index\n",
       "495  Female     150     153      5\n",
       "496  Female     184     121      4\n",
       "497  Female     141     136      5\n",
       "498    Male     150      95      5\n",
       "499    Male     173     131      5"
      ]
     },
     "execution_count": 5,
     "metadata": {},
     "output_type": "execute_result"
    }
   ],
   "source": [
    "df.tail(5)"
   ]
  },
  {
   "cell_type": "code",
   "execution_count": 6,
   "id": "6fe30592",
   "metadata": {
    "execution": {
     "iopub.execute_input": "2023-04-20T06:04:54.471072Z",
     "iopub.status.busy": "2023-04-20T06:04:54.470647Z",
     "iopub.status.idle": "2023-04-20T06:04:54.507809Z",
     "shell.execute_reply": "2023-04-20T06:04:54.506397Z"
    },
    "id": "F4C5Y2dTAm3b",
    "outputId": "978746a5-c0ef-4a27-b399-9e73d3d0e9b4",
    "papermill": {
     "duration": 0.050687,
     "end_time": "2023-04-20T06:04:54.510436",
     "exception": false,
     "start_time": "2023-04-20T06:04:54.459749",
     "status": "completed"
    },
    "tags": []
   },
   "outputs": [
    {
     "data": {
      "text/html": [
       "<div>\n",
       "<style scoped>\n",
       "    .dataframe tbody tr th:only-of-type {\n",
       "        vertical-align: middle;\n",
       "    }\n",
       "\n",
       "    .dataframe tbody tr th {\n",
       "        vertical-align: top;\n",
       "    }\n",
       "\n",
       "    .dataframe thead th {\n",
       "        text-align: right;\n",
       "    }\n",
       "</style>\n",
       "<table border=\"1\" class=\"dataframe\">\n",
       "  <thead>\n",
       "    <tr style=\"text-align: right;\">\n",
       "      <th></th>\n",
       "      <th>Height</th>\n",
       "      <th>Weight</th>\n",
       "      <th>Index</th>\n",
       "    </tr>\n",
       "  </thead>\n",
       "  <tbody>\n",
       "    <tr>\n",
       "      <th>count</th>\n",
       "      <td>500.000000</td>\n",
       "      <td>500.000000</td>\n",
       "      <td>500.000000</td>\n",
       "    </tr>\n",
       "    <tr>\n",
       "      <th>mean</th>\n",
       "      <td>169.944000</td>\n",
       "      <td>106.000000</td>\n",
       "      <td>3.748000</td>\n",
       "    </tr>\n",
       "    <tr>\n",
       "      <th>std</th>\n",
       "      <td>16.375261</td>\n",
       "      <td>32.382607</td>\n",
       "      <td>1.355053</td>\n",
       "    </tr>\n",
       "    <tr>\n",
       "      <th>min</th>\n",
       "      <td>140.000000</td>\n",
       "      <td>50.000000</td>\n",
       "      <td>0.000000</td>\n",
       "    </tr>\n",
       "    <tr>\n",
       "      <th>25%</th>\n",
       "      <td>156.000000</td>\n",
       "      <td>80.000000</td>\n",
       "      <td>3.000000</td>\n",
       "    </tr>\n",
       "    <tr>\n",
       "      <th>50%</th>\n",
       "      <td>170.500000</td>\n",
       "      <td>106.000000</td>\n",
       "      <td>4.000000</td>\n",
       "    </tr>\n",
       "    <tr>\n",
       "      <th>75%</th>\n",
       "      <td>184.000000</td>\n",
       "      <td>136.000000</td>\n",
       "      <td>5.000000</td>\n",
       "    </tr>\n",
       "    <tr>\n",
       "      <th>max</th>\n",
       "      <td>199.000000</td>\n",
       "      <td>160.000000</td>\n",
       "      <td>5.000000</td>\n",
       "    </tr>\n",
       "  </tbody>\n",
       "</table>\n",
       "</div>"
      ],
      "text/plain": [
       "           Height      Weight       Index\n",
       "count  500.000000  500.000000  500.000000\n",
       "mean   169.944000  106.000000    3.748000\n",
       "std     16.375261   32.382607    1.355053\n",
       "min    140.000000   50.000000    0.000000\n",
       "25%    156.000000   80.000000    3.000000\n",
       "50%    170.500000  106.000000    4.000000\n",
       "75%    184.000000  136.000000    5.000000\n",
       "max    199.000000  160.000000    5.000000"
      ]
     },
     "execution_count": 6,
     "metadata": {},
     "output_type": "execute_result"
    }
   ],
   "source": [
    "df.describe()"
   ]
  },
  {
   "cell_type": "code",
   "execution_count": 7,
   "id": "6c49d3b9",
   "metadata": {
    "execution": {
     "iopub.execute_input": "2023-04-20T06:04:54.532793Z",
     "iopub.status.busy": "2023-04-20T06:04:54.532379Z",
     "iopub.status.idle": "2023-04-20T06:04:54.550204Z",
     "shell.execute_reply": "2023-04-20T06:04:54.548626Z"
    },
    "id": "p0UTVBG9BAYS",
    "outputId": "c4e420d7-80f0-47c2-9e14-7a125329d9be",
    "papermill": {
     "duration": 0.031518,
     "end_time": "2023-04-20T06:04:54.552857",
     "exception": false,
     "start_time": "2023-04-20T06:04:54.521339",
     "status": "completed"
    },
    "tags": []
   },
   "outputs": [
    {
     "name": "stdout",
     "output_type": "stream",
     "text": [
      "<class 'pandas.core.frame.DataFrame'>\n",
      "RangeIndex: 500 entries, 0 to 499\n",
      "Data columns (total 4 columns):\n",
      " #   Column  Non-Null Count  Dtype \n",
      "---  ------  --------------  ----- \n",
      " 0   Gender  500 non-null    object\n",
      " 1   Height  500 non-null    int64 \n",
      " 2   Weight  500 non-null    int64 \n",
      " 3   Index   500 non-null    int64 \n",
      "dtypes: int64(3), object(1)\n",
      "memory usage: 15.8+ KB\n"
     ]
    }
   ],
   "source": [
    "df.info()"
   ]
  },
  {
   "cell_type": "code",
   "execution_count": 8,
   "id": "a1aec2a7",
   "metadata": {
    "execution": {
     "iopub.execute_input": "2023-04-20T06:04:54.574128Z",
     "iopub.status.busy": "2023-04-20T06:04:54.573731Z",
     "iopub.status.idle": "2023-04-20T06:04:54.581509Z",
     "shell.execute_reply": "2023-04-20T06:04:54.580329Z"
    },
    "id": "9jb5HsUUBKKZ",
    "outputId": "588bdec7-2eff-4dff-f5f0-6132dbb82660",
    "papermill": {
     "duration": 0.021167,
     "end_time": "2023-04-20T06:04:54.583767",
     "exception": false,
     "start_time": "2023-04-20T06:04:54.562600",
     "status": "completed"
    },
    "tags": []
   },
   "outputs": [
    {
     "data": {
      "text/plain": [
       "Index(['Gender', 'Height', 'Weight', 'Index'], dtype='object')"
      ]
     },
     "execution_count": 8,
     "metadata": {},
     "output_type": "execute_result"
    }
   ],
   "source": [
    "df.columns"
   ]
  },
  {
   "cell_type": "code",
   "execution_count": 9,
   "id": "47ac89b1",
   "metadata": {
    "execution": {
     "iopub.execute_input": "2023-04-20T06:04:54.605402Z",
     "iopub.status.busy": "2023-04-20T06:04:54.604931Z",
     "iopub.status.idle": "2023-04-20T06:04:54.619838Z",
     "shell.execute_reply": "2023-04-20T06:04:54.618820Z"
    },
    "id": "Io1GaoAYBd66",
    "outputId": "a0ea0cc7-f5ff-4819-8a17-15ff58332461",
    "papermill": {
     "duration": 0.028537,
     "end_time": "2023-04-20T06:04:54.622202",
     "exception": false,
     "start_time": "2023-04-20T06:04:54.593665",
     "status": "completed"
    },
    "tags": []
   },
   "outputs": [
    {
     "data": {
      "text/html": [
       "<div>\n",
       "<style scoped>\n",
       "    .dataframe tbody tr th:only-of-type {\n",
       "        vertical-align: middle;\n",
       "    }\n",
       "\n",
       "    .dataframe tbody tr th {\n",
       "        vertical-align: top;\n",
       "    }\n",
       "\n",
       "    .dataframe thead th {\n",
       "        text-align: right;\n",
       "    }\n",
       "</style>\n",
       "<table border=\"1\" class=\"dataframe\">\n",
       "  <thead>\n",
       "    <tr style=\"text-align: right;\">\n",
       "      <th></th>\n",
       "      <th>Height</th>\n",
       "      <th>Weight</th>\n",
       "      <th>Index</th>\n",
       "    </tr>\n",
       "  </thead>\n",
       "  <tbody>\n",
       "    <tr>\n",
       "      <th>Height</th>\n",
       "      <td>1.000000</td>\n",
       "      <td>0.000446</td>\n",
       "      <td>-0.422223</td>\n",
       "    </tr>\n",
       "    <tr>\n",
       "      <th>Weight</th>\n",
       "      <td>0.000446</td>\n",
       "      <td>1.000000</td>\n",
       "      <td>0.804569</td>\n",
       "    </tr>\n",
       "    <tr>\n",
       "      <th>Index</th>\n",
       "      <td>-0.422223</td>\n",
       "      <td>0.804569</td>\n",
       "      <td>1.000000</td>\n",
       "    </tr>\n",
       "  </tbody>\n",
       "</table>\n",
       "</div>"
      ],
      "text/plain": [
       "          Height    Weight     Index\n",
       "Height  1.000000  0.000446 -0.422223\n",
       "Weight  0.000446  1.000000  0.804569\n",
       "Index  -0.422223  0.804569  1.000000"
      ]
     },
     "execution_count": 9,
     "metadata": {},
     "output_type": "execute_result"
    }
   ],
   "source": [
    "df.corr()"
   ]
  },
  {
   "cell_type": "markdown",
   "id": "ec61a093",
   "metadata": {
    "id": "pRaC5M6DCVeI",
    "papermill": {
     "duration": 0.00986,
     "end_time": "2023-04-20T06:04:54.642137",
     "exception": false,
     "start_time": "2023-04-20T06:04:54.632277",
     "status": "completed"
    },
    "tags": []
   },
   "source": [
    "**2. Exploratory Data Analysis (EDA)**"
   ]
  },
  {
   "cell_type": "code",
   "execution_count": 10,
   "id": "28f750bf",
   "metadata": {
    "execution": {
     "iopub.execute_input": "2023-04-20T06:04:54.663910Z",
     "iopub.status.busy": "2023-04-20T06:04:54.663411Z",
     "iopub.status.idle": "2023-04-20T06:04:54.673329Z",
     "shell.execute_reply": "2023-04-20T06:04:54.672041Z"
    },
    "id": "0qG2TgA-CcJ6",
    "outputId": "ee5a09d5-8caa-4dd4-a865-f0bdc2807340",
    "papermill": {
     "duration": 0.023709,
     "end_time": "2023-04-20T06:04:54.675831",
     "exception": false,
     "start_time": "2023-04-20T06:04:54.652122",
     "status": "completed"
    },
    "tags": []
   },
   "outputs": [
    {
     "data": {
      "text/plain": [
       "5    198\n",
       "4    130\n",
       "2     69\n",
       "3     68\n",
       "1     22\n",
       "0     13\n",
       "Name: Index, dtype: int64"
      ]
     },
     "execution_count": 10,
     "metadata": {},
     "output_type": "execute_result"
    }
   ],
   "source": [
    "df['Index'].value_counts()"
   ]
  },
  {
   "cell_type": "code",
   "execution_count": 11,
   "id": "a141a11f",
   "metadata": {
    "execution": {
     "iopub.execute_input": "2023-04-20T06:04:54.698669Z",
     "iopub.status.busy": "2023-04-20T06:04:54.698184Z",
     "iopub.status.idle": "2023-04-20T06:04:54.707458Z",
     "shell.execute_reply": "2023-04-20T06:04:54.706098Z"
    },
    "id": "Rzu_AuysC7si",
    "outputId": "9f10f3c5-e49a-4ac0-b185-a0df5fa60fae",
    "papermill": {
     "duration": 0.024197,
     "end_time": "2023-04-20T06:04:54.710411",
     "exception": false,
     "start_time": "2023-04-20T06:04:54.686214",
     "status": "completed"
    },
    "tags": []
   },
   "outputs": [
    {
     "data": {
      "text/plain": [
       "Female    255\n",
       "Male      245\n",
       "Name: Gender, dtype: int64"
      ]
     },
     "execution_count": 11,
     "metadata": {},
     "output_type": "execute_result"
    }
   ],
   "source": [
    "df[\"Gender\"].value_counts()"
   ]
  },
  {
   "cell_type": "code",
   "execution_count": 12,
   "id": "3cd5a774",
   "metadata": {
    "execution": {
     "iopub.execute_input": "2023-04-20T06:04:54.734066Z",
     "iopub.status.busy": "2023-04-20T06:04:54.733609Z",
     "iopub.status.idle": "2023-04-20T06:04:54.748685Z",
     "shell.execute_reply": "2023-04-20T06:04:54.747395Z"
    },
    "id": "OdgYt_mZC_o6",
    "outputId": "6b31b102-3876-43a2-da97-07dbcdf074b7",
    "papermill": {
     "duration": 0.029648,
     "end_time": "2023-04-20T06:04:54.751098",
     "exception": false,
     "start_time": "2023-04-20T06:04:54.721450",
     "status": "completed"
    },
    "tags": []
   },
   "outputs": [
    {
     "data": {
      "text/html": [
       "<div>\n",
       "<style scoped>\n",
       "    .dataframe tbody tr th:only-of-type {\n",
       "        vertical-align: middle;\n",
       "    }\n",
       "\n",
       "    .dataframe tbody tr th {\n",
       "        vertical-align: top;\n",
       "    }\n",
       "\n",
       "    .dataframe thead th {\n",
       "        text-align: right;\n",
       "    }\n",
       "</style>\n",
       "<table border=\"1\" class=\"dataframe\">\n",
       "  <thead>\n",
       "    <tr style=\"text-align: right;\">\n",
       "      <th></th>\n",
       "      <th>Gender</th>\n",
       "      <th>Height</th>\n",
       "      <th>Weight</th>\n",
       "      <th>Index</th>\n",
       "    </tr>\n",
       "  </thead>\n",
       "  <tbody>\n",
       "    <tr>\n",
       "      <th>0</th>\n",
       "      <td>Male</td>\n",
       "      <td>174</td>\n",
       "      <td>96</td>\n",
       "      <td>Obesity</td>\n",
       "    </tr>\n",
       "    <tr>\n",
       "      <th>1</th>\n",
       "      <td>Male</td>\n",
       "      <td>189</td>\n",
       "      <td>87</td>\n",
       "      <td>Normal weight</td>\n",
       "    </tr>\n",
       "    <tr>\n",
       "      <th>2</th>\n",
       "      <td>Female</td>\n",
       "      <td>185</td>\n",
       "      <td>110</td>\n",
       "      <td>Obesity</td>\n",
       "    </tr>\n",
       "    <tr>\n",
       "      <th>3</th>\n",
       "      <td>Female</td>\n",
       "      <td>195</td>\n",
       "      <td>104</td>\n",
       "      <td>Excess weight</td>\n",
       "    </tr>\n",
       "    <tr>\n",
       "      <th>4</th>\n",
       "      <td>Male</td>\n",
       "      <td>149</td>\n",
       "      <td>61</td>\n",
       "      <td>Excess weight</td>\n",
       "    </tr>\n",
       "  </tbody>\n",
       "</table>\n",
       "</div>"
      ],
      "text/plain": [
       "   Gender  Height  Weight          Index\n",
       "0    Male     174      96        Obesity\n",
       "1    Male     189      87  Normal weight\n",
       "2  Female     185     110        Obesity\n",
       "3  Female     195     104  Excess weight\n",
       "4    Male     149      61  Excess weight"
      ]
     },
     "execution_count": 12,
     "metadata": {},
     "output_type": "execute_result"
    }
   ],
   "source": [
    "df['Index'] = df['Index'].replace({\n",
    "    0: \"Very less weight\",\n",
    "    1: \"Underweight\",\n",
    "    2: \"Normal weight\",\n",
    "    3: \"Excess weight\",\n",
    "    4: \"Obesity\",\n",
    "    5: \"Extreme obesity\"\n",
    "})\n",
    "df.head()"
   ]
  },
  {
   "cell_type": "code",
   "execution_count": 13,
   "id": "04efe428",
   "metadata": {
    "execution": {
     "iopub.execute_input": "2023-04-20T06:04:54.774050Z",
     "iopub.status.busy": "2023-04-20T06:04:54.773600Z",
     "iopub.status.idle": "2023-04-20T06:04:54.806620Z",
     "shell.execute_reply": "2023-04-20T06:04:54.805188Z"
    },
    "id": "Su1Bqcj1EeOr",
    "outputId": "c13bf68e-181a-4c5c-c05c-307f64dd136b",
    "papermill": {
     "duration": 0.047568,
     "end_time": "2023-04-20T06:04:54.809243",
     "exception": false,
     "start_time": "2023-04-20T06:04:54.761675",
     "status": "completed"
    },
    "tags": []
   },
   "outputs": [
    {
     "data": {
      "text/html": [
       "<div>\n",
       "<style scoped>\n",
       "    .dataframe tbody tr th:only-of-type {\n",
       "        vertical-align: middle;\n",
       "    }\n",
       "\n",
       "    .dataframe tbody tr th {\n",
       "        vertical-align: top;\n",
       "    }\n",
       "\n",
       "    .dataframe thead th {\n",
       "        text-align: right;\n",
       "    }\n",
       "</style>\n",
       "<table border=\"1\" class=\"dataframe\">\n",
       "  <thead>\n",
       "    <tr style=\"text-align: right;\">\n",
       "      <th></th>\n",
       "      <th></th>\n",
       "      <th>Height</th>\n",
       "      <th>Weight</th>\n",
       "    </tr>\n",
       "    <tr>\n",
       "      <th>Index</th>\n",
       "      <th>Gender</th>\n",
       "      <th></th>\n",
       "      <th></th>\n",
       "    </tr>\n",
       "  </thead>\n",
       "  <tbody>\n",
       "    <tr>\n",
       "      <th rowspan=\"2\" valign=\"top\">Very less weight</th>\n",
       "      <th>Male</th>\n",
       "      <td>188.666667</td>\n",
       "      <td>51.500000</td>\n",
       "    </tr>\n",
       "    <tr>\n",
       "      <th>Female</th>\n",
       "      <td>186.571429</td>\n",
       "      <td>51.857143</td>\n",
       "    </tr>\n",
       "    <tr>\n",
       "      <th rowspan=\"2\" valign=\"top\">Underweight</th>\n",
       "      <th>Male</th>\n",
       "      <td>185.066667</td>\n",
       "      <td>59.733333</td>\n",
       "    </tr>\n",
       "    <tr>\n",
       "      <th>Female</th>\n",
       "      <td>184.142857</td>\n",
       "      <td>58.714286</td>\n",
       "    </tr>\n",
       "    <tr>\n",
       "      <th>Normal weight</th>\n",
       "      <th>Male</th>\n",
       "      <td>178.035714</td>\n",
       "      <td>72.250000</td>\n",
       "    </tr>\n",
       "    <tr>\n",
       "      <th rowspan=\"2\" valign=\"top\">Excess weight</th>\n",
       "      <th>Female</th>\n",
       "      <td>176.944444</td>\n",
       "      <td>87.722222</td>\n",
       "    </tr>\n",
       "    <tr>\n",
       "      <th>Male</th>\n",
       "      <td>174.906250</td>\n",
       "      <td>85.937500</td>\n",
       "    </tr>\n",
       "    <tr>\n",
       "      <th rowspan=\"2\" valign=\"top\">Obesity</th>\n",
       "      <th>Female</th>\n",
       "      <td>174.338028</td>\n",
       "      <td>108.070423</td>\n",
       "    </tr>\n",
       "    <tr>\n",
       "      <th>Male</th>\n",
       "      <td>173.322034</td>\n",
       "      <td>107.813559</td>\n",
       "    </tr>\n",
       "    <tr>\n",
       "      <th>Normal weight</th>\n",
       "      <th>Female</th>\n",
       "      <td>171.682927</td>\n",
       "      <td>66.926829</td>\n",
       "    </tr>\n",
       "    <tr>\n",
       "      <th rowspan=\"2\" valign=\"top\">Extreme obesity</th>\n",
       "      <th>Female</th>\n",
       "      <td>161.569892</td>\n",
       "      <td>135.526882</td>\n",
       "    </tr>\n",
       "    <tr>\n",
       "      <th>Male</th>\n",
       "      <td>160.457143</td>\n",
       "      <td>130.552381</td>\n",
       "    </tr>\n",
       "  </tbody>\n",
       "</table>\n",
       "</div>"
      ],
      "text/plain": [
       "                             Height      Weight\n",
       "Index            Gender                        \n",
       "Very less weight Male    188.666667   51.500000\n",
       "                 Female  186.571429   51.857143\n",
       "Underweight      Male    185.066667   59.733333\n",
       "                 Female  184.142857   58.714286\n",
       "Normal weight    Male    178.035714   72.250000\n",
       "Excess weight    Female  176.944444   87.722222\n",
       "                 Male    174.906250   85.937500\n",
       "Obesity          Female  174.338028  108.070423\n",
       "                 Male    173.322034  107.813559\n",
       "Normal weight    Female  171.682927   66.926829\n",
       "Extreme obesity  Female  161.569892  135.526882\n",
       "                 Male    160.457143  130.552381"
      ]
     },
     "execution_count": 13,
     "metadata": {},
     "output_type": "execute_result"
    }
   ],
   "source": [
    "pd.pivot_table(\n",
    "    df,index = ['Index','Gender'], \n",
    "    values = [\"Height\", \"Weight\"],\n",
    "    aggfunc = {\"Height\": np.mean, \"Weight\": np.mean}\n",
    ").sort_values([\"Height\",\"Weight\"], ascending=False)"
   ]
  },
  {
   "cell_type": "code",
   "execution_count": 14,
   "id": "7d7d14e0",
   "metadata": {
    "execution": {
     "iopub.execute_input": "2023-04-20T06:04:54.833365Z",
     "iopub.status.busy": "2023-04-20T06:04:54.832893Z",
     "iopub.status.idle": "2023-04-20T06:04:55.140141Z",
     "shell.execute_reply": "2023-04-20T06:04:55.138880Z"
    },
    "id": "ZZkJn0KFH2aL",
    "papermill": {
     "duration": 0.32239,
     "end_time": "2023-04-20T06:04:55.143007",
     "exception": false,
     "start_time": "2023-04-20T06:04:54.820617",
     "status": "completed"
    },
    "tags": []
   },
   "outputs": [
    {
     "data": {
      "image/png": "[encoded data removed]",
      "text/plain": [
       "<Figure size 640x480 with 1 Axes>"
      ]
     },
     "metadata": {},
     "output_type": "display_data"
    }
   ],
   "source": [
    "chart = df.boxplot(column=[\"Height\",\"Weight\"])\n",
    "chart.set_xticklabels(chart.get_xticklabels(), rotation = 0)\n",
    "plt.title('Factors affecting BMI', fontsize = 14, color = 'black')\n",
    "plt.xlabel(\"Factor\")\n",
    "plt.ylabel(\"Amount\")\n",
    "plt.show()"
   ]
  },
  {
   "cell_type": "markdown",
   "id": "3f447a9a",
   "metadata": {
    "id": "XLLYUmA4HJqc",
    "papermill": {
     "duration": 0.010965,
     "end_time": "2023-04-20T06:04:55.165587",
     "exception": false,
     "start_time": "2023-04-20T06:04:55.154622",
     "status": "completed"
    },
    "tags": []
   },
   "source": [
    "**3. Model Classification**"
   ]
  },
  {
   "cell_type": "code",
   "execution_count": 15,
   "id": "f2f42ace",
   "metadata": {
    "execution": {
     "iopub.execute_input": "2023-04-20T06:04:55.189963Z",
     "iopub.status.busy": "2023-04-20T06:04:55.189506Z",
     "iopub.status.idle": "2023-04-20T06:04:55.199888Z",
     "shell.execute_reply": "2023-04-20T06:04:55.198374Z"
    },
    "id": "6ZEE_AsdIBob",
    "outputId": "2ac236a6-e2b0-4c9c-8297-d3c690fad23d",
    "papermill": {
     "duration": 0.025788,
     "end_time": "2023-04-20T06:04:55.202573",
     "exception": false,
     "start_time": "2023-04-20T06:04:55.176785",
     "status": "completed"
    },
    "tags": []
   },
   "outputs": [
    {
     "data": {
      "text/plain": [
       "0        Male\n",
       "1        Male\n",
       "2      Female\n",
       "3      Female\n",
       "4        Male\n",
       "        ...  \n",
       "495    Female\n",
       "496    Female\n",
       "497    Female\n",
       "498      Male\n",
       "499      Male\n",
       "Name: Gender, Length: 500, dtype: object"
      ]
     },
     "execution_count": 15,
     "metadata": {},
     "output_type": "execute_result"
    }
   ],
   "source": [
    "df[\"Gender\"]"
   ]
  },
  {
   "cell_type": "code",
   "execution_count": 16,
   "id": "21464f0e",
   "metadata": {
    "execution": {
     "iopub.execute_input": "2023-04-20T06:04:55.227815Z",
     "iopub.status.busy": "2023-04-20T06:04:55.227392Z",
     "iopub.status.idle": "2023-04-20T06:04:55.237693Z",
     "shell.execute_reply": "2023-04-20T06:04:55.236375Z"
    },
    "id": "hkGJzv9IIPqI",
    "outputId": "488f229a-1212-427e-d7ac-7497850ba302",
    "papermill": {
     "duration": 0.026141,
     "end_time": "2023-04-20T06:04:55.240383",
     "exception": false,
     "start_time": "2023-04-20T06:04:55.214242",
     "status": "completed"
    },
    "tags": []
   },
   "outputs": [
    {
     "data": {
      "text/plain": [
       "0              Obesity\n",
       "1        Normal weight\n",
       "2              Obesity\n",
       "3        Excess weight\n",
       "4        Excess weight\n",
       "            ...       \n",
       "495    Extreme obesity\n",
       "496            Obesity\n",
       "497    Extreme obesity\n",
       "498    Extreme obesity\n",
       "499    Extreme obesity\n",
       "Name: Index, Length: 500, dtype: object"
      ]
     },
     "execution_count": 16,
     "metadata": {},
     "output_type": "execute_result"
    }
   ],
   "source": [
    "df[\"Index\"]"
   ]
  },
  {
   "cell_type": "code",
   "execution_count": 17,
   "id": "4a214ed5",
   "metadata": {
    "execution": {
     "iopub.execute_input": "2023-04-20T06:04:55.265812Z",
     "iopub.status.busy": "2023-04-20T06:04:55.265388Z",
     "iopub.status.idle": "2023-04-20T06:04:55.272135Z",
     "shell.execute_reply": "2023-04-20T06:04:55.271121Z"
    },
    "id": "-6sm7qm9MMoL",
    "papermill": {
     "duration": 0.022543,
     "end_time": "2023-04-20T06:04:55.274465",
     "exception": false,
     "start_time": "2023-04-20T06:04:55.251922",
     "status": "completed"
    },
    "tags": []
   },
   "outputs": [],
   "source": [
    "le = LabelEncoder()\n",
    "df['Gender'] = le.fit_transform(df['Gender'])\n",
    "df['Index'] = le.fit_transform(df['Index'])"
   ]
  },
  {
   "cell_type": "code",
   "execution_count": 18,
   "id": "76907e0b",
   "metadata": {
    "execution": {
     "iopub.execute_input": "2023-04-20T06:04:55.299690Z",
     "iopub.status.busy": "2023-04-20T06:04:55.298618Z",
     "iopub.status.idle": "2023-04-20T06:04:55.309041Z",
     "shell.execute_reply": "2023-04-20T06:04:55.307818Z"
    },
    "id": "S65BTtFuH7HB",
    "outputId": "0da5b967-4a38-4797-9b8e-e87041aa12b4",
    "papermill": {
     "duration": 0.026036,
     "end_time": "2023-04-20T06:04:55.311866",
     "exception": false,
     "start_time": "2023-04-20T06:04:55.285830",
     "status": "completed"
    },
    "tags": []
   },
   "outputs": [
    {
     "data": {
      "text/plain": [
       "0      1\n",
       "1      1\n",
       "2      0\n",
       "3      0\n",
       "4      1\n",
       "      ..\n",
       "495    0\n",
       "496    0\n",
       "497    0\n",
       "498    1\n",
       "499    1\n",
       "Name: Gender, Length: 500, dtype: int64"
      ]
     },
     "execution_count": 18,
     "metadata": {},
     "output_type": "execute_result"
    }
   ],
   "source": [
    "df['Gender']"
   ]
  },
  {
   "cell_type": "code",
   "execution_count": 19,
   "id": "26500f3f",
   "metadata": {
    "execution": {
     "iopub.execute_input": "2023-04-20T06:04:55.337984Z",
     "iopub.status.busy": "2023-04-20T06:04:55.336549Z",
     "iopub.status.idle": "2023-04-20T06:04:55.346396Z",
     "shell.execute_reply": "2023-04-20T06:04:55.345224Z"
    },
    "id": "TNNCSjvqH9dR",
    "outputId": "1af1486c-06b4-4167-a29c-e7444845a198",
    "papermill": {
     "duration": 0.025256,
     "end_time": "2023-04-20T06:04:55.348874",
     "exception": false,
     "start_time": "2023-04-20T06:04:55.323618",
     "status": "completed"
    },
    "tags": []
   },
   "outputs": [
    {
     "data": {
      "text/plain": [
       "0      3\n",
       "1      2\n",
       "2      3\n",
       "3      0\n",
       "4      0\n",
       "      ..\n",
       "495    1\n",
       "496    3\n",
       "497    1\n",
       "498    1\n",
       "499    1\n",
       "Name: Index, Length: 500, dtype: int64"
      ]
     },
     "execution_count": 19,
     "metadata": {},
     "output_type": "execute_result"
    }
   ],
   "source": [
    "df['Index']"
   ]
  },
  {
   "cell_type": "code",
   "execution_count": 20,
   "id": "6cb4313e",
   "metadata": {
    "execution": {
     "iopub.execute_input": "2023-04-20T06:04:55.374990Z",
     "iopub.status.busy": "2023-04-20T06:04:55.373722Z",
     "iopub.status.idle": "2023-04-20T06:04:55.381884Z",
     "shell.execute_reply": "2023-04-20T06:04:55.380629Z"
    },
    "id": "U-8ibsawIWAd",
    "papermill": {
     "duration": 0.024433,
     "end_time": "2023-04-20T06:04:55.384959",
     "exception": false,
     "start_time": "2023-04-20T06:04:55.360526",
     "status": "completed"
    },
    "tags": []
   },
   "outputs": [],
   "source": [
    "X = df.drop('Index', axis = \"columns\")\n",
    "y = df['Index']"
   ]
  },
  {
   "cell_type": "code",
   "execution_count": 21,
   "id": "b84cfa6d",
   "metadata": {
    "execution": {
     "iopub.execute_input": "2023-04-20T06:04:55.410990Z",
     "iopub.status.busy": "2023-04-20T06:04:55.409522Z",
     "iopub.status.idle": "2023-04-20T06:04:55.423435Z",
     "shell.execute_reply": "2023-04-20T06:04:55.421991Z"
    },
    "id": "3kMfXAB3IAax",
    "outputId": "ccac925e-3db2-4af1-a1fc-9a78dac22828",
    "papermill": {
     "duration": 0.0293,
     "end_time": "2023-04-20T06:04:55.425879",
     "exception": false,
     "start_time": "2023-04-20T06:04:55.396579",
     "status": "completed"
    },
    "tags": []
   },
   "outputs": [
    {
     "data": {
      "text/html": [
       "<div>\n",
       "<style scoped>\n",
       "    .dataframe tbody tr th:only-of-type {\n",
       "        vertical-align: middle;\n",
       "    }\n",
       "\n",
       "    .dataframe tbody tr th {\n",
       "        vertical-align: top;\n",
       "    }\n",
       "\n",
       "    .dataframe thead th {\n",
       "        text-align: right;\n",
       "    }\n",
       "</style>\n",
       "<table border=\"1\" class=\"dataframe\">\n",
       "  <thead>\n",
       "    <tr style=\"text-align: right;\">\n",
       "      <th></th>\n",
       "      <th>Gender</th>\n",
       "      <th>Height</th>\n",
       "      <th>Weight</th>\n",
       "    </tr>\n",
       "  </thead>\n",
       "  <tbody>\n",
       "    <tr>\n",
       "      <th>0</th>\n",
       "      <td>1</td>\n",
       "      <td>174</td>\n",
       "      <td>96</td>\n",
       "    </tr>\n",
       "    <tr>\n",
       "      <th>1</th>\n",
       "      <td>1</td>\n",
       "      <td>189</td>\n",
       "      <td>87</td>\n",
       "    </tr>\n",
       "    <tr>\n",
       "      <th>2</th>\n",
       "      <td>0</td>\n",
       "      <td>185</td>\n",
       "      <td>110</td>\n",
       "    </tr>\n",
       "    <tr>\n",
       "      <th>3</th>\n",
       "      <td>0</td>\n",
       "      <td>195</td>\n",
       "      <td>104</td>\n",
       "    </tr>\n",
       "    <tr>\n",
       "      <th>4</th>\n",
       "      <td>1</td>\n",
       "      <td>149</td>\n",
       "      <td>61</td>\n",
       "    </tr>\n",
       "    <tr>\n",
       "      <th>...</th>\n",
       "      <td>...</td>\n",
       "      <td>...</td>\n",
       "      <td>...</td>\n",
       "    </tr>\n",
       "    <tr>\n",
       "      <th>495</th>\n",
       "      <td>0</td>\n",
       "      <td>150</td>\n",
       "      <td>153</td>\n",
       "    </tr>\n",
       "    <tr>\n",
       "      <th>496</th>\n",
       "      <td>0</td>\n",
       "      <td>184</td>\n",
       "      <td>121</td>\n",
       "    </tr>\n",
       "    <tr>\n",
       "      <th>497</th>\n",
       "      <td>0</td>\n",
       "      <td>141</td>\n",
       "      <td>136</td>\n",
       "    </tr>\n",
       "    <tr>\n",
       "      <th>498</th>\n",
       "      <td>1</td>\n",
       "      <td>150</td>\n",
       "      <td>95</td>\n",
       "    </tr>\n",
       "    <tr>\n",
       "      <th>499</th>\n",
       "      <td>1</td>\n",
       "      <td>173</td>\n",
       "      <td>131</td>\n",
       "    </tr>\n",
       "  </tbody>\n",
       "</table>\n",
       "<p>500 rows × 3 columns</p>\n",
       "</div>"
      ],
      "text/plain": [
       "     Gender  Height  Weight\n",
       "0         1     174      96\n",
       "1         1     189      87\n",
       "2         0     185     110\n",
       "3         0     195     104\n",
       "4         1     149      61\n",
       "..      ...     ...     ...\n",
       "495       0     150     153\n",
       "496       0     184     121\n",
       "497       0     141     136\n",
       "498       1     150      95\n",
       "499       1     173     131\n",
       "\n",
       "[500 rows x 3 columns]"
      ]
     },
     "execution_count": 21,
     "metadata": {},
     "output_type": "execute_result"
    }
   ],
   "source": [
    "X"
   ]
  },
  {
   "cell_type": "code",
   "execution_count": 22,
   "id": "dd22e114",
   "metadata": {
    "execution": {
     "iopub.execute_input": "2023-04-20T06:04:55.452273Z",
     "iopub.status.busy": "2023-04-20T06:04:55.451145Z",
     "iopub.status.idle": "2023-04-20T06:04:55.460318Z",
     "shell.execute_reply": "2023-04-20T06:04:55.459103Z"
    },
    "id": "iyBNKa2JIdBq",
    "outputId": "bd45f039-81e6-40dc-b02a-caff37d3ca5a",
    "papermill": {
     "duration": 0.024837,
     "end_time": "2023-04-20T06:04:55.462663",
     "exception": false,
     "start_time": "2023-04-20T06:04:55.437826",
     "status": "completed"
    },
    "tags": []
   },
   "outputs": [
    {
     "data": {
      "text/plain": [
       "0      3\n",
       "1      2\n",
       "2      3\n",
       "3      0\n",
       "4      0\n",
       "      ..\n",
       "495    1\n",
       "496    3\n",
       "497    1\n",
       "498    1\n",
       "499    1\n",
       "Name: Index, Length: 500, dtype: int64"
      ]
     },
     "execution_count": 22,
     "metadata": {},
     "output_type": "execute_result"
    }
   ],
   "source": [
    "y"
   ]
  },
  {
   "cell_type": "code",
   "execution_count": 23,
   "id": "5eceec15",
   "metadata": {
    "execution": {
     "iopub.execute_input": "2023-04-20T06:04:55.488887Z",
     "iopub.status.busy": "2023-04-20T06:04:55.488168Z",
     "iopub.status.idle": "2023-04-20T06:04:55.496906Z",
     "shell.execute_reply": "2023-04-20T06:04:55.495926Z"
    },
    "id": "1sGAWx2VJNom",
    "papermill": {
     "duration": 0.02499,
     "end_time": "2023-04-20T06:04:55.499615",
     "exception": false,
     "start_time": "2023-04-20T06:04:55.474625",
     "status": "completed"
    },
    "tags": []
   },
   "outputs": [],
   "source": [
    "X_train, X_test, y_train, y_test = train_test_split(X, y, test_size = 0.2, random_state = 0)"
   ]
  },
  {
   "cell_type": "code",
   "execution_count": 24,
   "id": "be83a930",
   "metadata": {
    "execution": {
     "iopub.execute_input": "2023-04-20T06:04:55.526435Z",
     "iopub.status.busy": "2023-04-20T06:04:55.525961Z",
     "iopub.status.idle": "2023-04-20T06:04:55.532970Z",
     "shell.execute_reply": "2023-04-20T06:04:55.531528Z"
    },
    "id": "N2oSr7gpJbD9",
    "outputId": "8616333c-5211-49f4-e633-87d62fc8f060",
    "papermill": {
     "duration": 0.023709,
     "end_time": "2023-04-20T06:04:55.535449",
     "exception": false,
     "start_time": "2023-04-20T06:04:55.511740",
     "status": "completed"
    },
    "tags": []
   },
   "outputs": [
    {
     "name": "stdout",
     "output_type": "stream",
     "text": [
      "(400, 3)\n",
      "(400,)\n",
      "(100, 3)\n",
      "(100,)\n"
     ]
    }
   ],
   "source": [
    "print(X_train.shape)\n",
    "print(y_train.shape)\n",
    "print(X_test.shape)\n",
    "print(y_test.shape)"
   ]
  },
  {
   "cell_type": "code",
   "execution_count": 25,
   "id": "3c45ebb1",
   "metadata": {
    "execution": {
     "iopub.execute_input": "2023-04-20T06:04:55.562570Z",
     "iopub.status.busy": "2023-04-20T06:04:55.561211Z",
     "iopub.status.idle": "2023-04-20T06:04:55.567832Z",
     "shell.execute_reply": "2023-04-20T06:04:55.566314Z"
    },
    "id": "8_YtmXReJhkN",
    "papermill": {
     "duration": 0.022898,
     "end_time": "2023-04-20T06:04:55.570574",
     "exception": false,
     "start_time": "2023-04-20T06:04:55.547676",
     "status": "completed"
    },
    "tags": []
   },
   "outputs": [],
   "source": [
    "classifiers = [\n",
    "    KNeighborsClassifier(n_neighbors = 4), \n",
    "    SVC(kernel=\"linear\"), \n",
    "    DecisionTreeClassifier(), \n",
    "    LogisticRegression(),\n",
    "    LinearDiscriminantAnalysis()\n",
    "]"
   ]
  },
  {
   "cell_type": "code",
   "execution_count": 26,
   "id": "db4b91ee",
   "metadata": {
    "execution": {
     "iopub.execute_input": "2023-04-20T06:04:55.596705Z",
     "iopub.status.busy": "2023-04-20T06:04:55.596243Z",
     "iopub.status.idle": "2023-04-20T06:04:55.604743Z",
     "shell.execute_reply": "2023-04-20T06:04:55.603196Z"
    },
    "id": "Trdm1ldRNgym",
    "papermill": {
     "duration": 0.024899,
     "end_time": "2023-04-20T06:04:55.607724",
     "exception": false,
     "start_time": "2023-04-20T06:04:55.582825",
     "status": "completed"
    },
    "tags": []
   },
   "outputs": [],
   "source": [
    "log_cols = [\"Classifier\", \"Accuracy\"]\n",
    "log = pd.DataFrame(columns = log_cols)"
   ]
  },
  {
   "cell_type": "code",
   "execution_count": 27,
   "id": "e6f92ade",
   "metadata": {
    "execution": {
     "iopub.execute_input": "2023-04-20T06:04:55.634403Z",
     "iopub.status.busy": "2023-04-20T06:04:55.633919Z",
     "iopub.status.idle": "2023-04-20T06:04:55.754800Z",
     "shell.execute_reply": "2023-04-20T06:04:55.753355Z"
    },
    "id": "0UOZit4gNhuE",
    "outputId": "2e57a930-80f4-4586-f4e7-e7bb243576f5",
    "papermill": {
     "duration": 0.137517,
     "end_time": "2023-04-20T06:04:55.757875",
     "exception": false,
     "start_time": "2023-04-20T06:04:55.620358",
     "status": "completed"
    },
    "tags": []
   },
   "outputs": [
    {
     "name": "stdout",
     "output_type": "stream",
     "text": [
      "====================\n",
      "KNeighborsClassifier\n",
      "***Hasil***\n",
      "Holdout Accuracy: 90.0%\n",
      "====================\n",
      "SVC\n",
      "***Hasil***\n",
      "Holdout Accuracy: 94.0%\n",
      "====================\n",
      "DecisionTreeClassifier\n",
      "***Hasil***\n",
      "Holdout Accuracy: 88.0%\n",
      "====================\n",
      "LogisticRegression\n",
      "***Hasil***\n",
      "Holdout Accuracy: 76.0%\n",
      "====================\n",
      "LinearDiscriminantAnalysis\n",
      "***Hasil***\n",
      "Holdout Accuracy: 89.0%\n",
      "============================== \n",
      "\n"
     ]
    },
    {
     "name": "stderr",
     "output_type": "stream",
     "text": [
      "/opt/conda/lib/python3.7/site-packages/sklearn/linear_model/_logistic.py:818: ConvergenceWarning: lbfgs failed to converge (status=1):\n",
      "STOP: TOTAL NO. of ITERATIONS REACHED LIMIT.\n",
      "\n",
      "Increase the number of iterations (max_iter) or scale the data as shown in:\n",
      "    https://scikit-learn.org/stable/modules/preprocessing.html\n",
      "Please also refer to the documentation for alternative solver options:\n",
      "    https://scikit-learn.org/stable/modules/linear_model.html#logistic-regression\n",
      "  extra_warning_msg=_LOGISTIC_SOLVER_CONVERGENCE_MSG,\n"
     ]
    }
   ],
   "source": [
    "for alg in classifiers:\n",
    "    model = alg.fit(X_train, y_train)\n",
    "    name = alg.__class__.__name__\n",
    "    print(\"=\" * 20)\n",
    "    print(name)\n",
    "    print('***Hasil***')\n",
    "    # Holdout Validation\n",
    "    acc = model.score(X_test, y_test)\n",
    "    print(f\"Holdout Accuracy: {acc*100}%\") \n",
    "    log_entry = pd.DataFrame([[name, acc * 100]], columns = log_cols)\n",
    "    log = log.append(log_entry)\n",
    "print(\"=\" * 30,\"\\n\")"
   ]
  },
  {
   "cell_type": "code",
   "execution_count": 28,
   "id": "ed3682ec",
   "metadata": {
    "execution": {
     "iopub.execute_input": "2023-04-20T06:04:55.785631Z",
     "iopub.status.busy": "2023-04-20T06:04:55.784296Z",
     "iopub.status.idle": "2023-04-20T06:04:55.815906Z",
     "shell.execute_reply": "2023-04-20T06:04:55.814565Z"
    },
    "id": "zI4EVw3jWse4",
    "outputId": "bcb3df4b-ea66-47ac-a3e5-b9b2c31c0537",
    "papermill": {
     "duration": 0.047906,
     "end_time": "2023-04-20T06:04:55.818551",
     "exception": false,
     "start_time": "2023-04-20T06:04:55.770645",
     "status": "completed"
    },
    "tags": []
   },
   "outputs": [
    {
     "data": {
      "text/plain": [
       "SVC(kernel='linear')"
      ]
     },
     "execution_count": 28,
     "metadata": {},
     "output_type": "execute_result"
    }
   ],
   "source": [
    "linearSVC = SVC(kernel=\"linear\")\n",
    "linearSVC.fit(X_train, y_train)"
   ]
  },
  {
   "cell_type": "code",
   "execution_count": 29,
   "id": "7688d930",
   "metadata": {
    "execution": {
     "iopub.execute_input": "2023-04-20T06:04:55.847897Z",
     "iopub.status.busy": "2023-04-20T06:04:55.846805Z",
     "iopub.status.idle": "2023-04-20T06:04:55.861530Z",
     "shell.execute_reply": "2023-04-20T06:04:55.859800Z"
    },
    "id": "9KG9PRcnW5YO",
    "outputId": "612c9c1a-4d0f-48a5-f951-389e9688109f",
    "papermill": {
     "duration": 0.034452,
     "end_time": "2023-04-20T06:04:55.865555",
     "exception": false,
     "start_time": "2023-04-20T06:04:55.831103",
     "status": "completed"
    },
    "tags": []
   },
   "outputs": [
    {
     "name": "stdout",
     "output_type": "stream",
     "text": [
      "[1 1 3 1 1 1 0 1 3 1 2 3 2 1 1 0 1 0 1 3 3 0 0 3 2 4 1 3 3 0 3 1 1 1 3 5 1\n",
      " 3 1 2 1 3 3 1 3 2 1 2 1 1 3 3 0 1 1 0 3 3 5 3 3 3 3 4 3 0 2 0 1 1 1 1 0 3\n",
      " 3 1 3 1 1 1 1 0 3 1 1 2 1 1 1 0 0 2 0 4 0 4 3 3 5 0]\n"
     ]
    }
   ],
   "source": [
    "y_pred = linearSVC.predict(X_test)\n",
    "print(y_pred)"
   ]
  },
  {
   "cell_type": "code",
   "execution_count": 30,
   "id": "9bc9218c",
   "metadata": {
    "execution": {
     "iopub.execute_input": "2023-04-20T06:04:55.903515Z",
     "iopub.status.busy": "2023-04-20T06:04:55.902517Z",
     "iopub.status.idle": "2023-04-20T06:04:55.912353Z",
     "shell.execute_reply": "2023-04-20T06:04:55.911368Z"
    },
    "id": "M0REtAVgW8NP",
    "outputId": "ca14cb5f-90ab-411e-834f-a2883e4b91e2",
    "papermill": {
     "duration": 0.032586,
     "end_time": "2023-04-20T06:04:55.915586",
     "exception": false,
     "start_time": "2023-04-20T06:04:55.883000",
     "status": "completed"
    },
    "tags": []
   },
   "outputs": [
    {
     "data": {
      "text/plain": [
       "90     1\n",
       "254    1\n",
       "283    3\n",
       "445    1\n",
       "461    1\n",
       "      ..\n",
       "372    4\n",
       "56     3\n",
       "440    3\n",
       "60     5\n",
       "208    0\n",
       "Name: Index, Length: 100, dtype: int64"
      ]
     },
     "execution_count": 30,
     "metadata": {},
     "output_type": "execute_result"
    }
   ],
   "source": [
    "y_test"
   ]
  },
  {
   "cell_type": "code",
   "execution_count": 31,
   "id": "27533624",
   "metadata": {
    "execution": {
     "iopub.execute_input": "2023-04-20T06:04:55.950750Z",
     "iopub.status.busy": "2023-04-20T06:04:55.949363Z",
     "iopub.status.idle": "2023-04-20T06:04:55.957443Z",
     "shell.execute_reply": "2023-04-20T06:04:55.956010Z"
    },
    "id": "08FGOkG3fMd_",
    "outputId": "2e522552-5b05-4d1f-8e72-110445113007",
    "papermill": {
     "duration": 0.025575,
     "end_time": "2023-04-20T06:04:55.960196",
     "exception": false,
     "start_time": "2023-04-20T06:04:55.934621",
     "status": "completed"
    },
    "tags": []
   },
   "outputs": [
    {
     "name": "stdout",
     "output_type": "stream",
     "text": [
      "Mean Squared Error : 0.39\n"
     ]
    }
   ],
   "source": [
    "mse = metrics.mean_squared_error(y_test, y_pred)\n",
    "print('Mean Squared Error : '+ str(mse))"
   ]
  },
  {
   "cell_type": "code",
   "execution_count": 32,
   "id": "1fa01be5",
   "metadata": {
    "execution": {
     "iopub.execute_input": "2023-04-20T06:04:55.988684Z",
     "iopub.status.busy": "2023-04-20T06:04:55.987371Z",
     "iopub.status.idle": "2023-04-20T06:04:56.517661Z",
     "shell.execute_reply": "2023-04-20T06:04:56.516564Z"
    },
    "id": "7Ooipv7noSUR",
    "outputId": "1d259bb4-3086-4287-f731-66f0ea50f45d",
    "papermill": {
     "duration": 0.547895,
     "end_time": "2023-04-20T06:04:56.521030",
     "exception": false,
     "start_time": "2023-04-20T06:04:55.973135",
     "status": "completed"
    },
    "tags": []
   },
   "outputs": [
    {
     "data": {
      "image/png": "[encoded data removed]",
      "text/plain": [
       "<Figure size 800x600 with 2 Axes>"
      ]
     },
     "metadata": {},
     "output_type": "display_data"
    }
   ],
   "source": [
    "%matplotlib inline\n",
    "matrix = pd.DataFrame((metrics.confusion_matrix(y_test, y_pred)), \n",
    "                      ('Berat badan sangat kurang', 'Berat badan kurang', 'Berat badan normal', 'Berat badan berlebih', 'Obesitas', 'Obesitas ekstrim'), \n",
    "                      ('Berat badan sangat kurang', 'Berat badan kurang', 'Berat badan normal', 'Berat badan berlebih', 'Obesitas', 'Obesitas ekstrim'))\n",
    "\n",
    "plt.figure(figsize = (8,6))\n",
    "heatmap = sns.heatmap(matrix, annot = True, annot_kws = {'size': 14}, fmt = 'd', cmap = 'YlGnBu')\n",
    "heatmap.yaxis.set_ticklabels(heatmap.yaxis.get_ticklabels(), rotation = 0, ha = 'right', fontsize = 14)\n",
    "heatmap.xaxis.set_ticklabels(heatmap.xaxis.get_ticklabels(), rotation = 45, ha = 'right', fontsize = 14)\n",
    "\n",
    "plt.title('Confusion Matrix', fontsize = 18, color = 'darkblue')\n",
    "plt.ylabel('True label', fontsize = 14)\n",
    "plt.xlabel('Predicted label', fontsize = 14)\n",
    "plt.show()"
   ]
  },
  {
   "cell_type": "code",
   "execution_count": 33,
   "id": "f4bf9a76",
   "metadata": {
    "execution": {
     "iopub.execute_input": "2023-04-20T06:04:56.552174Z",
     "iopub.status.busy": "2023-04-20T06:04:56.551747Z",
     "iopub.status.idle": "2023-04-20T06:04:56.557636Z",
     "shell.execute_reply": "2023-04-20T06:04:56.556182Z"
    },
    "id": "WhADAWqdfkQH",
    "papermill": {
     "duration": 0.02447,
     "end_time": "2023-04-20T06:04:56.560225",
     "exception": false,
     "start_time": "2023-04-20T06:04:56.535755",
     "status": "completed"
    },
    "tags": []
   },
   "outputs": [],
   "source": [
    "# # Confusion matrix\n",
    "# confusion_matrix = metrics.confusion_matrix(y_test, y_pred)\n",
    "\n",
    "# cm_display = metrics.ConfusionMatrixDisplay(\n",
    "#     confusion_matrix = confusion_matrix, \n",
    "#     display_labels = ['Berat badan sangat kurang', 'Berat badan kurang', 'Berat badan normal', 'Berat badan berlebih', 'Obesitas', 'Obesitas ekstrim']\n",
    "# )\n",
    "\n",
    "# cm_display.plot()\n",
    "# plt.show()"
   ]
  },
  {
   "cell_type": "code",
   "execution_count": 34,
   "id": "839ad3b3",
   "metadata": {
    "execution": {
     "iopub.execute_input": "2023-04-20T06:04:56.591363Z",
     "iopub.status.busy": "2023-04-20T06:04:56.590931Z",
     "iopub.status.idle": "2023-04-20T06:04:56.603636Z",
     "shell.execute_reply": "2023-04-20T06:04:56.601859Z"
    },
    "id": "B1orr2C6hCzw",
    "outputId": "6d88bc53-989e-4647-b31d-f54d18783727",
    "papermill": {
     "duration": 0.03153,
     "end_time": "2023-04-20T06:04:56.606263",
     "exception": false,
     "start_time": "2023-04-20T06:04:56.574733",
     "status": "completed"
    },
    "tags": []
   },
   "outputs": [
    {
     "name": "stdout",
     "output_type": "stream",
     "text": [
      "Hasil Klasifikasi menggunakan SVC dengan Kernel Linear : \n",
      "\n",
      "              precision    recall  f1-score   support\n",
      "\n",
      "           0       0.82      0.93      0.87        15\n",
      "           1       0.95      1.00      0.97        36\n",
      "           2       1.00      0.90      0.95        10\n",
      "           3       0.97      0.88      0.92        32\n",
      "           4       1.00      1.00      1.00         4\n",
      "           5       1.00      1.00      1.00         3\n",
      "\n",
      "    accuracy                           0.94       100\n",
      "   macro avg       0.96      0.95      0.95       100\n",
      "weighted avg       0.94      0.94      0.94       100\n",
      "\n"
     ]
    }
   ],
   "source": [
    "hasil = metrics.classification_report(y_test, y_pred)\n",
    "print('Hasil Klasifikasi menggunakan SVC dengan Kernel Linear : \\n')\n",
    "print(hasil)"
   ]
  }
 ],
 "metadata": {
  "kernelspec": {
   "display_name": "Python 3",
   "language": "python",
   "name": "python3"
  },
  "language_info": {
   "codemirror_mode": {
    "name": "ipython",
    "version": 3
   },
   "file_extension": ".py",
   "mimetype": "text/x-python",
   "name": "python",
   "nbconvert_exporter": "python",
   "pygments_lexer": "ipython3",
   "version": "3.7.12"
  },
  "papermill": {
   "default_parameters": {},
   "duration": 20.622237,
   "end_time": "2023-04-20T06:04:57.644997",
   "environment_variables": {},
   "exception": null,
   "input_path": "__notebook__.ipynb",
   "output_path": "__notebook__.ipynb",
   "parameters": {},
   "start_time": "2023-04-20T06:04:37.022760",
   "version": "2.4.0"
  }
 },
 "nbformat": 4,
 "nbformat_minor": 5
}
